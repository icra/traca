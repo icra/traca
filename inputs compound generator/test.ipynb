{
 "cells": [
  {
   "cell_type": "code",
   "execution_count": 3,
   "metadata": {},
   "outputs": [],
   "source": [
    "import pandas as pd\n",
    "from pathlib import Path"
   ]
  },
  {
   "cell_type": "code",
   "execution_count": 15,
   "metadata": {},
   "outputs": [],
   "source": [
    "contaminant = 'Alaclor'"
   ]
  },
  {
   "cell_type": "code",
   "execution_count": 16,
   "metadata": {},
   "outputs": [],
   "source": [
    "atenuacions_generacions_path = Path('inputs\\\\atenuacions_generacions.xlsx')\n",
    "atenuacions_generacions_df = pd.read_excel(atenuacions_generacions_path, index_col=0).loc[contaminant]"
   ]
  },
  {
   "cell_type": "code",
   "execution_count": 17,
   "metadata": {},
   "outputs": [
    {
     "data": {
      "text/plain": [
       "UV                   5.376284\n",
       "CL                   5.000000\n",
       "SF                   0.000000\n",
       "UF                   0.000000\n",
       "GAC                  0.000000\n",
       "RO                   0.000000\n",
       "AOP                  0.000000\n",
       "O3                   0.000000\n",
       "OTHER                0.000000\n",
       "Primari              0.000000\n",
       "C                   65.000000\n",
       "CN                  65.000000\n",
       "CNP                 65.000000\n",
       "coef                 0.000000\n",
       "Error industrial     1.000000\n",
       "Name: Alaclor, dtype: float64"
      ]
     },
     "execution_count": 17,
     "metadata": {},
     "output_type": "execute_result"
    }
   ],
   "source": [
    "atenuacions_generacions_df\n"
   ]
  },
  {
   "cell_type": "code",
   "execution_count": null,
   "metadata": {},
   "outputs": [],
   "source": []
  }
 ],
 "metadata": {
  "kernelspec": {
   "display_name": "pySWAT",
   "language": "python",
   "name": "python3"
  },
  "language_info": {
   "codemirror_mode": {
    "name": "ipython",
    "version": 3
   },
   "file_extension": ".py",
   "mimetype": "text/x-python",
   "name": "python",
   "nbconvert_exporter": "python",
   "pygments_lexer": "ipython3",
   "version": "3.8.18"
  }
 },
 "nbformat": 4,
 "nbformat_minor": 2
}
