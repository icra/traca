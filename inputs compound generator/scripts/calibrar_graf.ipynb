{
 "cells": [
  {
   "cell_type": "code",
   "execution_count": 3,
   "outputs": [
    {
     "data": {
      "text/plain": "\"\\nCalibrar concentracions graf a partir d'observacions a medi i prediccions del graf (multiplicador a 1 i cabals actualitzats 2022)\\nper la conca del llobregat\\n\""
     },
     "execution_count": 3,
     "metadata": {},
     "output_type": "execute_result"
    }
   ],
   "source": [
    "\"\"\"\n",
    "Calibrar concentracions graf a partir d'observacions a medi i prediccions del graf (multiplicador a 1 i cabals actualitzats 2022)\n",
    "per la conca del llobregat\n",
    "\"\"\""
   ],
   "metadata": {
    "collapsed": false,
    "ExecuteTime": {
     "start_time": "2023-05-18T10:37:42.538732Z",
     "end_time": "2023-05-18T10:37:42.559082Z"
    }
   }
  },
  {
   "cell_type": "code",
   "execution_count": 4,
   "outputs": [],
   "source": [
    "import pandas as pd\n",
    "import json\n",
    "import matplotlib.pyplot as plt\n",
    "import numpy as np\n",
    "import datetime\n",
    "import utm\n",
    "from sqlalchemy import create_engine\n"
   ],
   "metadata": {
    "collapsed": false,
    "ExecuteTime": {
     "start_time": "2023-05-18T10:37:42.550729Z",
     "end_time": "2023-05-18T10:37:42.601250Z"
    }
   }
  },
  {
   "cell_type": "code",
   "execution_count": 11,
   "id": "71765503",
   "metadata": {
    "ExecuteTime": {
     "start_time": "2023-05-18T11:38:15.776732Z",
     "end_time": "2023-05-18T11:38:15.788964Z"
    }
   },
   "outputs": [],
   "source": [
    "\n",
    "contaminants_i_nutrients = [\"Ciprofloxacina\", \"Clorobenzè\", \"Hexabromociclodecà\", \"Nonilfenols\", \"Octilfenols\", \"Tetracloroetilè\", \"Triclorometà\", \"Cloroalcans\", \"Niquel\", \"Plom\", \"Diuron\", \"Nitrogen Total\", \"Fòsfor total\", \"Nitrats\"]\n"
   ]
  },
  {
   "cell_type": "code",
   "execution_count": 12,
   "outputs": [
    {
     "name": "stdout",
     "output_type": "stream",
     "text": [
      "Ciprofloxacina -----  avg_prediction: 4013.525 ----- avg_observation: 96.214    -----  avg_observation/avg_prediction: 0.023972378588415433\n",
      "Clorobenzè -----  avg_prediction: 0.008 ----- avg_observation: 51.435    -----  avg_observation/avg_prediction: 6784.588736727869\n",
      "Hexabromociclodecà -----  avg_prediction: 0.110 ----- avg_observation: 9.590    -----  avg_observation/avg_prediction: 87.39887554507028\n",
      "Nonilfenols -----  avg_prediction: 3.002 ----- avg_observation: 393.080    -----  avg_observation/avg_prediction: 130.95361352215298\n",
      "Octilfenols -----  avg_prediction: 0.167 ----- avg_observation: 20910.975    -----  avg_observation/avg_prediction: 125257.05120010793\n",
      "Tetracloroetilè -----  avg_prediction: 0.030 ----- avg_observation: 178.437    -----  avg_observation/avg_prediction: 5876.133009488866\n",
      "Triclorometà -----  avg_prediction: 271.321 ----- avg_observation: 331.452    -----  avg_observation/avg_prediction: 1.221622229199729\n",
      "Cloroalcans -----  avg_prediction: 36.881 ----- avg_observation: 9650.000    -----  avg_observation/avg_prediction: 261.65231110750966\n",
      "Niquel -----  avg_prediction: 7555.133 ----- avg_observation: 10829.543    -----  avg_observation/avg_prediction: 1.4334021523878187\n",
      "Plom -----  avg_prediction: 103.080 ----- avg_observation: 1257.400    -----  avg_observation/avg_prediction: 12.198259609899887\n",
      "Diuron -----  avg_prediction: 8.835 ----- avg_observation: 31.635    -----  avg_observation/avg_prediction: 3.5808154522040136\n",
      "Nitrogen Total -----  avg_prediction: nan ----- avg_observation: nan    -----  avg_observation/avg_prediction: nan\n",
      "Fòsfor total -----  avg_prediction: 79047.289 ----- avg_observation: 1163008.761    -----  avg_observation/avg_prediction: 14.712822839793985\n",
      "Nitrats -----  avg_prediction: 296142.962 ----- avg_observation: 13011776.038    -----  avg_observation/avg_prediction: 43.93748199030373\n"
     ]
    }
   ],
   "source": [
    "#contaminants_i_nutrients = ['Ciprofloxacina']\n",
    "\n",
    "\n",
    "for contaminant in contaminants_i_nutrients:\n",
    "    #read file\n",
    "    df = pd.read_csv(f\"inputs/calibracio_grafs/{contaminant}.csv\")\n",
    "\n",
    "    #avg of column prediction\n",
    "    avg_prediction = df['prediction'].mean()\n",
    "\n",
    "    #avg of column observation\n",
    "    avg_observation = df['observation'].mean()\n",
    "\n",
    "    #show numbers with 3 decimals in fstring\n",
    "    print(f\"{contaminant} -----  avg_prediction: {avg_prediction:.3f} ----- avg_observation: {avg_observation:.3f}    -----  avg_observation/avg_prediction: {avg_observation/avg_prediction}\")\n"
   ],
   "metadata": {
    "collapsed": false,
    "ExecuteTime": {
     "start_time": "2023-05-18T11:38:18.164918Z",
     "end_time": "2023-05-18T11:38:18.211433Z"
    }
   }
  },
  {
   "cell_type": "code",
   "execution_count": 7,
   "outputs": [
    {
     "data": {
      "text/plain": "    Unnamed: 0        lat      long   observation    prediction\n0            0  41.979485  1.531755  5.462366e+06  1.343023e+05\n1            1  41.520479  1.566341  2.903226e+05  0.000000e+00\n2            2  42.035680  1.563468  3.666460e+05  4.491888e+03\n3            3  41.568845  1.635759  4.255161e+05  1.577925e+04\n4            4  41.930105  1.634094  3.423953e+06  2.104113e+04\n..         ...        ...       ...           ...           ...\n62          62  41.427717  2.024152  5.257499e+05  4.228970e+05\n63          63  41.507538  2.033499  3.413978e+06  1.809692e+06\n64          64  41.954402  2.034788  1.184437e+06  4.972620e+04\n65          65  41.351694  2.046614  7.616775e+05  1.829772e+05\n66          66  41.999583  2.055900  5.829050e+05  5.270703e+02\n\n[67 rows x 5 columns]",
      "text/html": "<div>\n<style scoped>\n    .dataframe tbody tr th:only-of-type {\n        vertical-align: middle;\n    }\n\n    .dataframe tbody tr th {\n        vertical-align: top;\n    }\n\n    .dataframe thead th {\n        text-align: right;\n    }\n</style>\n<table border=\"1\" class=\"dataframe\">\n  <thead>\n    <tr style=\"text-align: right;\">\n      <th></th>\n      <th>Unnamed: 0</th>\n      <th>lat</th>\n      <th>long</th>\n      <th>observation</th>\n      <th>prediction</th>\n    </tr>\n  </thead>\n  <tbody>\n    <tr>\n      <th>0</th>\n      <td>0</td>\n      <td>41.979485</td>\n      <td>1.531755</td>\n      <td>5.462366e+06</td>\n      <td>1.343023e+05</td>\n    </tr>\n    <tr>\n      <th>1</th>\n      <td>1</td>\n      <td>41.520479</td>\n      <td>1.566341</td>\n      <td>2.903226e+05</td>\n      <td>0.000000e+00</td>\n    </tr>\n    <tr>\n      <th>2</th>\n      <td>2</td>\n      <td>42.035680</td>\n      <td>1.563468</td>\n      <td>3.666460e+05</td>\n      <td>4.491888e+03</td>\n    </tr>\n    <tr>\n      <th>3</th>\n      <td>3</td>\n      <td>41.568845</td>\n      <td>1.635759</td>\n      <td>4.255161e+05</td>\n      <td>1.577925e+04</td>\n    </tr>\n    <tr>\n      <th>4</th>\n      <td>4</td>\n      <td>41.930105</td>\n      <td>1.634094</td>\n      <td>3.423953e+06</td>\n      <td>2.104113e+04</td>\n    </tr>\n    <tr>\n      <th>...</th>\n      <td>...</td>\n      <td>...</td>\n      <td>...</td>\n      <td>...</td>\n      <td>...</td>\n    </tr>\n    <tr>\n      <th>62</th>\n      <td>62</td>\n      <td>41.427717</td>\n      <td>2.024152</td>\n      <td>5.257499e+05</td>\n      <td>4.228970e+05</td>\n    </tr>\n    <tr>\n      <th>63</th>\n      <td>63</td>\n      <td>41.507538</td>\n      <td>2.033499</td>\n      <td>3.413978e+06</td>\n      <td>1.809692e+06</td>\n    </tr>\n    <tr>\n      <th>64</th>\n      <td>64</td>\n      <td>41.954402</td>\n      <td>2.034788</td>\n      <td>1.184437e+06</td>\n      <td>4.972620e+04</td>\n    </tr>\n    <tr>\n      <th>65</th>\n      <td>65</td>\n      <td>41.351694</td>\n      <td>2.046614</td>\n      <td>7.616775e+05</td>\n      <td>1.829772e+05</td>\n    </tr>\n    <tr>\n      <th>66</th>\n      <td>66</td>\n      <td>41.999583</td>\n      <td>2.055900</td>\n      <td>5.829050e+05</td>\n      <td>5.270703e+02</td>\n    </tr>\n  </tbody>\n</table>\n<p>67 rows × 5 columns</p>\n</div>"
     },
     "execution_count": 7,
     "metadata": {},
     "output_type": "execute_result"
    }
   ],
   "source": [
    "df"
   ],
   "metadata": {
    "collapsed": false,
    "ExecuteTime": {
     "start_time": "2023-05-18T10:37:42.626941Z",
     "end_time": "2023-05-18T10:37:42.690690Z"
    }
   }
  },
  {
   "cell_type": "code",
   "execution_count": 7,
   "outputs": [],
   "source": [],
   "metadata": {
    "collapsed": false,
    "ExecuteTime": {
     "start_time": "2023-05-18T10:37:42.658679Z",
     "end_time": "2023-05-18T10:37:42.690690Z"
    }
   }
  }
 ],
 "metadata": {
  "kernelspec": {
   "display_name": "Python 3 (ipykernel)",
   "language": "python",
   "name": "python3"
  },
  "language_info": {
   "codemirror_mode": {
    "name": "ipython",
    "version": 3
   },
   "file_extension": ".py",
   "mimetype": "text/x-python",
   "name": "python",
   "nbconvert_exporter": "python",
   "pygments_lexer": "ipython3",
   "version": "3.10.5"
  }
 },
 "nbformat": 4,
 "nbformat_minor": 5
}
