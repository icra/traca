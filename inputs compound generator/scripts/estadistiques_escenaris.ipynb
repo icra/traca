{
 "cells": [
  {
   "cell_type": "code",
   "execution_count": 1,
   "id": "df8e870a",
   "metadata": {
    "pycharm": {
     "name": "#%%\n"
    }
   },
   "outputs": [],
   "source": [
    "import pandas as pd\n",
    "import matplotlib.pyplot as plt"
   ]
  },
  {
   "cell_type": "code",
   "execution_count": 91,
   "id": "71765503",
   "metadata": {
    "pycharm": {
     "name": "#%%\n"
    }
   },
   "outputs": [],
   "source": [
    "\"\"\"\n",
    "contaminants_i_nutrients = [\"Ciprofloxacina\", \"Cloroalcans\", \"Clorobenzè\", \"Hexabromociclodecà\", \"Nonilfenols\", \"Octilfenols\", \"Tetracloroetilè\", \"Triclorometà\", \"Cloroalcans\", \"Niquel\", \"Plom\", \"Diuron\"]\n",
    "\"\"\"\n",
    "\n",
    "contaminants_i_nutrients = [\"Niquel\", \"Plom\", \"Diuron\", \"Ciprofloxacina\", \"Nonilfenols\", \"Triclorometà\"]\n",
    "\n"
   ]
  },
  {
   "cell_type": "code",
   "execution_count": 92,
   "id": "e831926d",
   "metadata": {
    "pycharm": {
     "name": "#%%\n"
    }
   },
   "outputs": [],
   "source": [
    "df = pd.read_csv(\"C://Users//jsalo//Desktop//resultats.csv\")\n",
    "#df = pd.read_csv(\"C://Users//jsalo//Desktop//a//resultats.csv\")\n",
    "\n",
    "\n",
    "\n"
   ]
  },
  {
   "cell_type": "code",
   "execution_count": 93,
   "id": "9fcdb9f3",
   "metadata": {
    "pycharm": {
     "name": "#%%\n"
    }
   },
   "outputs": [],
   "source": [
    "listObj = []\n",
    "\n",
    "for string in list(df['escenari']):\n",
    "    listObj.append(eval(string))"
   ]
  },
  {
   "cell_type": "code",
   "execution_count": 94,
   "id": "e4d1a924",
   "metadata": {
    "pycharm": {
     "name": "#%%\n"
    }
   },
   "outputs": [],
   "source": [
    "def f(x):\n",
    "    incompliments = 0\n",
    "    for massa in x[\"masses_aigua_valors\"]:\n",
    "        incompliments += len(x[\"masses_aigua_valors\"][massa])\n",
    "    return incompliments, x[\"cost\"]\n",
    "\n",
    "data_sorted = sorted(listObj, key=lambda x: f(x))"
   ]
  },
  {
   "cell_type": "code",
   "execution_count": 7,
   "id": "2fa9d9cc",
   "metadata": {
    "pycharm": {
     "name": "#%%\n"
    }
   },
   "outputs": [],
   "source": [
    "\"\"\"\n",
    "EXECUTAR PER TREURE TOTS ELS GAC\n",
    "\"\"\"\n",
    "\n",
    "def has_no_gac(scenario):\n",
    "    configuration = scenario['scenario']\n",
    "    return sum(1 for _ in filter(lambda edar: edar['terciaris'] == ['GAC'], configuration)) == 0\n",
    "\n",
    "data_sorted = list(filter(has_no_gac, data_sorted))"
   ]
  },
  {
   "cell_type": "markdown",
   "source": [
    "data_sorted"
   ],
   "metadata": {
    "collapsed": false,
    "pycharm": {
     "name": "#%% md\n"
    }
   }
  },
  {
   "cell_type": "code",
   "execution_count": 11,
   "outputs": [],
   "source": [
    "\"\"\"\n",
    "EXECUTAR PER TREURE ELS ESCENARIS QUE CONTENEN DEPURADORES QUE TENEN OSMOSI INVERSA (UF+RO+AOP), I NO HAURIEN\n",
    "\"\"\"\n",
    "\n",
    "def te_osmosi_inversa(configuracio):\n",
    "    terciaris = configuracio['terciaris']\n",
    "    return terciaris is not None and 'UF' in terciaris and 'RO' in terciaris and 'AOP' in terciaris\n",
    "\n",
    "def pot_tenir_osmosi_inversa(configuracio):\n",
    "    edars_osmosi_inversa = ['ES9081130006010E', 'ES9081270001010E', 'ES9080010001010E', 'ES9081140002010E',\n",
    "                                'ES9082110001010E', 'ES9080440001010E']\n",
    "    wwtp = configuracio['wwtp']\n",
    "    return wwtp in edars_osmosi_inversa\n",
    "\n",
    "def te_osmosi_invesa_i_no_pot(escenari):\n",
    "    return len(list(filter(lambda x: te_osmosi_inversa(x) and not pot_tenir_osmosi_inversa(x), escenari['scenario']))) > 0\n",
    "\n",
    "data_sorted = list(filter(lambda x: not te_osmosi_invesa_i_no_pot(x), data_sorted))\n"
   ],
   "metadata": {
    "collapsed": false,
    "pycharm": {
     "name": "#%%\n"
    }
   }
  },
  {
   "cell_type": "code",
   "execution_count": 95,
   "outputs": [
    {
     "name": "stdout",
     "output_type": "stream",
     "text": [
      "SC 9088\n"
     ]
    }
   ],
   "source": [
    "\"\"\"\n",
    "EXECUTAR PER TREURE TOTS ELS O3\n",
    "\"\"\"\n",
    "\n",
    "def has_no_o3(scenario):\n",
    "    configuration = scenario['scenario']\n",
    "    return sum(1 for _ in filter(lambda edar: edar['terciaris'] is not None and 'O3' in edar['terciaris'], configuration)) == 0\n",
    "\n",
    "no_o3 = list(filter(has_no_o3, data_sorted))\n",
    "print(\"SC \"+ str(data_sorted.index(no_o3[0])))\n",
    "data_sorted = no_o3"
   ],
   "metadata": {
    "collapsed": false,
    "pycharm": {
     "name": "#%%\n"
    }
   }
  },
  {
   "cell_type": "code",
   "execution_count": 81,
   "outputs": [
    {
     "name": "stdout",
     "output_type": "stream",
     "text": [
      "SC 66122\n"
     ]
    }
   ],
   "source": [
    "\"\"\"\n",
    "EXECUTAR PER TREURE TRACTAMENTS TERCIARIS AMB DEPURADORES DE MENYS DE 20000 M3/DIA\n",
    "\"\"\"\n",
    "\n",
    "small_edar = ['ES9080910001010E', 'ES9081140002010E', 'ES9081270001010E', 'ES9080530002010E', 'ES9080440001010E']\n",
    "\n",
    "#Gelida, Martorell, Monistrol, Castellbell, Vallbona\n",
    "\n",
    "def has_no_small_edars_with_tertiary(scenario):\n",
    "    configuration = scenario['scenario']\n",
    "    return sum(1 for _ in filter(lambda edar: edar['wwtp'] in small_edar and edar['terciaris'] is not None, configuration)) == 0\n",
    "\n",
    "no_tertiary_small_edars = list(filter(has_no_small_edars_with_tertiary, data_sorted))\n",
    "print(\"SC \"+ str(data_sorted.index(no_tertiary_small_edars[0])))\n",
    "data_sorted = no_tertiary_small_edars"
   ],
   "metadata": {
    "collapsed": false,
    "pycharm": {
     "name": "#%%\n"
    }
   }
  },
  {
   "cell_type": "code",
   "execution_count": 96,
   "outputs": [
    {
     "data": {
      "text/plain": "{'scenario': [{'secundari': 'SP',\n   'terciaris': ['UF', 'RO', 'AOP'],\n   'wwtp': 'ES9080010001010E'},\n  {'secundari': 'SN', 'terciaris': None, 'wwtp': 'ES9080910001010E'},\n  {'secundari': 'SP', 'terciaris': ['UF', 'UV'], 'wwtp': 'ES9083020001010E'},\n  {'secundari': 'SP', 'terciaris': ['GAC'], 'wwtp': 'ES9081130006010E'},\n  {'secundari': 'SP', 'terciaris': ['GAC'], 'wwtp': 'ES9081140002010E'},\n  {'secundari': 'SN', 'terciaris': ['UF', 'UV'], 'wwtp': 'ES9081270001010E'},\n  {'secundari': 'SP', 'terciaris': ['GAC'], 'wwtp': 'ES9081840001010E'},\n  {'secundari': 'SP', 'terciaris': ['GAC'], 'wwtp': 'ES9082110001010E'},\n  {'secundari': 'SP', 'terciaris': ['GAC'], 'wwtp': 'ES9082790004050E'},\n  {'secundari': 'SP', 'terciaris': ['GAC'], 'wwtp': 'ES9080440001010E'},\n  {'secundari': 'SP', 'terciaris': ['GAC'], 'wwtp': 'ES9080530002010E'}],\n 'masses_aigua_valors': {1000950: ['Octilfenols'],\n  1000900: ['Octilfenols'],\n  1000940: [],\n  1000930: ['Octilfenols'],\n  1000860: ['Octilfenols'],\n  1000920: [],\n  1000910: ['Ciprofloxacina', 'Niquel'],\n  1000850: ['Ciprofloxacina', 'Octilfenols', 'Niquel'],\n  1000830: ['Octilfenols'],\n  1000840: ['Ciprofloxacina', 'Octilfenols', 'Niquel'],\n  1000880: ['Octilfenols'],\n  1000890: ['Ciprofloxacina', 'Octilfenols', 'Niquel', 'Plom'],\n  1000820: ['Ciprofloxacina', 'Octilfenols', 'Niquel'],\n  1000870: ['Ciprofloxacina', 'Octilfenols', 'Niquel'],\n  1000810: ['Octilfenols'],\n  1000760: ['Octilfenols'],\n  1000770: ['Ciprofloxacina', 'Octilfenols'],\n  1000750: ['Octilfenols'],\n  1000740: ['Octilfenols'],\n  1000800: ['Octilfenols'],\n  1000710: ['Octilfenols'],\n  1000720: [],\n  1000730: [],\n  1000690: ['Octilfenols'],\n  1000700: []},\n 'cost': 11530928.79024174}"
     },
     "execution_count": 96,
     "metadata": {},
     "output_type": "execute_result"
    }
   ],
   "source": [
    "data_sorted[0]"
   ],
   "metadata": {
    "collapsed": false,
    "pycharm": {
     "name": "#%%\n"
    }
   }
  },
  {
   "cell_type": "code",
   "execution_count": 97,
   "id": "9ff39d5f",
   "metadata": {
    "pycharm": {
     "name": "#%%\n"
    }
   },
   "outputs": [],
   "source": [
    "configuracions = []\n",
    "incompliments_masses = []\n",
    "incompliment_contaminant = []"
   ]
  },
  {
   "cell_type": "code",
   "execution_count": 98,
   "id": "dbe405fd",
   "metadata": {
    "pycharm": {
     "name": "#%%\n"
    }
   },
   "outputs": [],
   "source": [
    "i = 0\n",
    "for obj in data_sorted:\n",
    "    i += 1\n",
    "    scenario = obj['scenario']\n",
    "    masses_aigua = obj['masses_aigua_valors']\n",
    "    cost = obj['cost']\n",
    "\n",
    "    obj = {}\n",
    "    for edar in scenario:\n",
    "        tractaments = \"P,\"+edar[\"secundari\"]\n",
    "        if edar[\"terciaris\"] is not None:\n",
    "            tractaments = tractaments+','+','.join(edar[\"terciaris\"])\n",
    "        \n",
    "        obj[edar[\"wwtp\"]] = tractaments\n",
    "    obj[\"Cost diferencial\"] = cost\n",
    "    incompliments_masses.append(masses_aigua)\n",
    "    n_incompliments = 0\n",
    "    incompliment_per_contaminant = {}\n",
    "\n",
    "    for massa_aigua in masses_aigua:\n",
    "    #for contaminant in masses_aigua[massa_aigua]:\n",
    "        for contaminant in contaminants_i_nutrients:\n",
    "            if contaminant not in incompliment_per_contaminant:\n",
    "                incompliment_per_contaminant[contaminant] = 0\n",
    "            if contaminant in masses_aigua[massa_aigua]:\n",
    "                incompliment_per_contaminant[contaminant] += 1\n",
    "                n_incompliments += 1\n",
    "    incompliment_contaminant.append(incompliment_per_contaminant)\n",
    "    obj[\"Nombre incompliments\"] = n_incompliments\n",
    "    configuracions.append(obj)\n"
   ]
  },
  {
   "cell_type": "code",
   "execution_count": 99,
   "id": "5f644fda",
   "metadata": {
    "pycharm": {
     "name": "#%%\n"
    }
   },
   "outputs": [],
   "source": [
    "df = pd.DataFrame(incompliment_contaminant)"
   ]
  },
  {
   "cell_type": "code",
   "execution_count": 100,
   "id": "aa27fe77",
   "metadata": {
    "pycharm": {
     "name": "#%%\n"
    }
   },
   "outputs": [
    {
     "data": {
      "text/plain": "   Niquel  Plom  Diuron  Ciprofloxacina  Nonilfenols  Triclorometà\n0       6     1       0               7            0             0\n1       6     1       0               7            0             0\n2       6     1       1               7            0             0\n3       6     1       1               7            0             0",
      "text/html": "<div>\n<style scoped>\n    .dataframe tbody tr th:only-of-type {\n        vertical-align: middle;\n    }\n\n    .dataframe tbody tr th {\n        vertical-align: top;\n    }\n\n    .dataframe thead th {\n        text-align: right;\n    }\n</style>\n<table border=\"1\" class=\"dataframe\">\n  <thead>\n    <tr style=\"text-align: right;\">\n      <th></th>\n      <th>Niquel</th>\n      <th>Plom</th>\n      <th>Diuron</th>\n      <th>Ciprofloxacina</th>\n      <th>Nonilfenols</th>\n      <th>Triclorometà</th>\n    </tr>\n  </thead>\n  <tbody>\n    <tr>\n      <th>0</th>\n      <td>6</td>\n      <td>1</td>\n      <td>0</td>\n      <td>7</td>\n      <td>0</td>\n      <td>0</td>\n    </tr>\n    <tr>\n      <th>1</th>\n      <td>6</td>\n      <td>1</td>\n      <td>0</td>\n      <td>7</td>\n      <td>0</td>\n      <td>0</td>\n    </tr>\n    <tr>\n      <th>2</th>\n      <td>6</td>\n      <td>1</td>\n      <td>1</td>\n      <td>7</td>\n      <td>0</td>\n      <td>0</td>\n    </tr>\n    <tr>\n      <th>3</th>\n      <td>6</td>\n      <td>1</td>\n      <td>1</td>\n      <td>7</td>\n      <td>0</td>\n      <td>0</td>\n    </tr>\n  </tbody>\n</table>\n</div>"
     },
     "execution_count": 100,
     "metadata": {},
     "output_type": "execute_result"
    }
   ],
   "source": [
    "df.head(4)"
   ]
  },
  {
   "cell_type": "code",
   "execution_count": 101,
   "id": "2adaa3d0",
   "metadata": {
    "pycharm": {
     "name": "#%%\n"
    }
   },
   "outputs": [],
   "source": [
    "incompliments_escenari_base = 26"
   ]
  },
  {
   "cell_type": "code",
   "execution_count": 102,
   "id": "f2c5483f",
   "metadata": {
    "pycharm": {
     "name": "#%%\n"
    }
   },
   "outputs": [
    {
     "name": "stdout",
     "output_type": "stream",
     "text": [
      "P,SP,UF,RO,AOP\n",
      "P,SN\n",
      "P,SP,UF,UV\n",
      "P,SP,GAC\n",
      "P,SP,GAC\n",
      "P,SN,UF,UV\n",
      "P,SP,GAC\n",
      "P,SP,GAC\n",
      "P,SP,GAC\n",
      "castellbell ------------ P,SP,GAC\n",
      "vallbona ------------ P,SP,GAC\n",
      "------------\n",
      "P,SP,UF,RO,AOP\n",
      "P,SN,SF,UV\n",
      "P,SP,SF,UV\n",
      "P,SP,UF,RO,AOP\n",
      "P,SP\n",
      "P,SN,UF,UV\n",
      "P,SP,UF,UV\n",
      "P,SP,UF,RO,AOP\n",
      "P,SP,GAC\n",
      "castellbell ------------ P,SP,GAC\n",
      "vallbona ------------ P,SP,UF,RO,AOP\n",
      "------------\n",
      "P,SP,UF,RO,AOP\n",
      "P,SN,UF,UV\n",
      "P,SP,GAC\n",
      "P,SP,SF,UV\n",
      "P,SP,SF,UV\n",
      "P,SN,SF,UV\n",
      "P,SP,SF,UV\n",
      "P,SP\n",
      "P,SP,UF,UV\n",
      "castellbell ------------ P,SP,GAC\n",
      "vallbona ------------ P,SP,GAC\n",
      "------------\n",
      "P,SP,UF,RO,AOP\n",
      "P,SN\n",
      "P,SP,GAC\n",
      "P,SP,UF,RO,AOP\n",
      "P,SP\n",
      "P,SN\n",
      "P,SP\n",
      "P,SP,GAC\n",
      "P,SP,SF,UV\n",
      "castellbell ------------ P,SP\n",
      "vallbona ------------ P,SP,GAC\n",
      "------------\n"
     ]
    }
   ],
   "source": [
    "for i in range(0,4):\n",
    "    print(configuracions[i]['ES9080010001010E'])\n",
    "    print(configuracions[i]['ES9080910001010E'])\n",
    "    print(configuracions[i]['ES9083020001010E'])\n",
    "    print(configuracions[i]['ES9081130006010E'])\n",
    "    print(configuracions[i]['ES9081140002010E'])\n",
    "    print(configuracions[i]['ES9081270001010E'])\n",
    "    print(configuracions[i]['ES9081840001010E'])\n",
    "    print(configuracions[i]['ES9082110001010E'])\n",
    "    print(configuracions[i]['ES9082790004050E'])\n",
    "    print(\"castellbell ------------\", configuracions[i]['ES9080530002010E'])\n",
    "    print(\"vallbona ------------\", configuracions[i]['ES9080440001010E'])\n",
    "    print('------------')\n",
    "\n",
    "    "
   ]
  },
  {
   "cell_type": "code",
   "execution_count": 89,
   "id": "50f5adee",
   "metadata": {
    "pycharm": {
     "name": "#%%\n"
    }
   },
   "outputs": [
    {
     "data": {
      "text/plain": "<Figure size 640x480 with 1 Axes>",
      "image/png": "[encoded data removed]"
     },
     "metadata": {},
     "output_type": "display_data"
    }
   ],
   "source": [
    "\"\"\"\n",
    "Figura 2. Relació entre l’increment de cost entre l’escenari base i l’escenari de millora simulat (cost diferencial, en M€) \n",
    "i la reducció en el nombre d’incompliments. \n",
    "\"\"\"\n",
    "x = []\n",
    "y = []\n",
    "for configuracio in configuracions:\n",
    "    cost_diferencial = configuracio['Cost diferencial']\n",
    "    n_incompliments = configuracio['Nombre incompliments'] \n",
    "    x.append(cost_diferencial / 1000000)\n",
    "    y.append(incompliments_escenari_base - n_incompliments)\n",
    "    \n",
    "plt.scatter(x, y)\n",
    "plt.show() "
   ]
  },
  {
   "cell_type": "code",
   "execution_count": 90,
   "id": "d4635ef3",
   "metadata": {
    "pycharm": {
     "name": "#%%\n"
    }
   },
   "outputs": [
    {
     "data": {
      "text/plain": "   Cost diferencial (M€)  Reducció nombre incompliments\n0              13.528496                              7",
      "text/html": "<div>\n<style scoped>\n    .dataframe tbody tr th:only-of-type {\n        vertical-align: middle;\n    }\n\n    .dataframe tbody tr th {\n        vertical-align: top;\n    }\n\n    .dataframe thead th {\n        text-align: right;\n    }\n</style>\n<table border=\"1\" class=\"dataframe\">\n  <thead>\n    <tr style=\"text-align: right;\">\n      <th></th>\n      <th>Cost diferencial (M€)</th>\n      <th>Reducció nombre incompliments</th>\n    </tr>\n  </thead>\n  <tbody>\n    <tr>\n      <th>0</th>\n      <td>13.528496</td>\n      <td>7</td>\n    </tr>\n  </tbody>\n</table>\n</div>"
     },
     "execution_count": 90,
     "metadata": {},
     "output_type": "execute_result"
    }
   ],
   "source": [
    "pd.DataFrame({'Cost diferencial (M€)': x, 'Reducció nombre incompliments': y}) "
   ]
  },
  {
   "cell_type": "code",
   "execution_count": 91,
   "id": "8171f3ca",
   "metadata": {
    "pycharm": {
     "name": "#%%\n"
    }
   },
   "outputs": [
    {
     "data": {
      "text/plain": "<Figure size 640x480 with 1 Axes>",
      "image/png": "[encoded data removed]"
     },
     "metadata": {},
     "output_type": "display_data"
    }
   ],
   "source": [
    "\"\"\"\n",
    "Figura 3. Relació entre l’increment de cost entre l’escenari base i l’escenari de millora simulat (cost diferencial, en M€) \n",
    "i el quocient entre el cost diferencial i la reducció en el nombre d’incompliments. \n",
    "\"\"\"\n",
    "x = []\n",
    "y = []\n",
    "for configuracio in configuracions:\n",
    "    cost_diferencial = configuracio['Cost diferencial']\n",
    "    n_incompliments = configuracio['Nombre incompliments']\n",
    "    if n_incompliments < incompliments_escenari_base:\n",
    "        x.append(cost_diferencial / 1000000)\n",
    "        y.append((cost_diferencial / 1000000) / (incompliments_escenari_base - n_incompliments))\n",
    "    \n",
    "plt.scatter(x, y)\n",
    "plt.show() "
   ]
  },
  {
   "cell_type": "code",
   "execution_count": 92,
   "id": "6d779cb0",
   "metadata": {
    "pycharm": {
     "name": "#%%\n"
    }
   },
   "outputs": [
    {
     "data": {
      "text/plain": "    Cost diferencial (M€)  Cost unitari reducció incompliments (M€)\n0                8.543056                                  0.776641\n1               11.977083                                  1.088826\n2               17.375624                                  1.579602\n3               15.687071                                  1.568707\n4                9.501988                                  1.055776\n5               10.927457                                  1.214162\n6               13.616619                                  1.512958\n7               16.783128                                  1.864792\n8                9.693413                                  1.211677\n9               10.481518                                  1.310190\n10              10.972471                                  1.371559\n11              12.257719                                  1.532215\n12              15.767161                                  1.970895\n13              10.481037                                  1.497291\n14              11.138834                                  1.591262\n15              13.492597                                  1.927514\n16              14.628932                                  2.089847\n17              16.678839                                  2.382691\n18              19.277291                                  2.753899\n19               7.723411                                  1.287235\n20               8.159043                                  1.359840\n21              12.625978                                  2.104330\n22               6.304502                                  1.260900\n23               6.590129                                  1.318026\n24               6.839604                                  1.367921\n25               7.128295                                  1.425659\n26               7.501421                                  1.500284\n27               9.060042                                  1.812008\n28               9.105940                                  1.821188\n29              10.499412                                  2.099882\n30              11.320904                                  2.264181\n31              11.591243                                  2.318249\n32              12.692490                                  2.538498\n33              14.494179                                  2.898836\n34               6.932983                                  1.733246\n35               7.264694                                  1.816173\n36               8.260509                                  2.065127\n37               9.838023                                  2.459506\n38               9.904669                                  2.476167\n39               9.990931                                  2.497733\n40              10.099566                                  2.524891\n41              11.098249                                  2.774562\n42              11.281486                                  2.820371\n43              11.410791                                  2.852698\n44              12.044175                                  3.011044\n45              13.443831                                  3.360958\n46              14.062762                                  3.515690\n47              15.307934                                  3.826984\n48              15.581822                                  3.895456\n49               6.246697                                  2.082232\n50               7.664286                                  2.554762\n51               9.010963                                  3.003654\n52              10.641867                                  3.547289\n53              10.915831                                  3.638610\n54              12.332186                                  4.110729\n55              12.621253                                  4.207084\n56              13.790102                                  4.596701\n57              13.930694                                  4.643565\n58               6.952954                                  3.476477\n59               8.634044                                  4.317022",
      "text/html": "<div>\n<style scoped>\n    .dataframe tbody tr th:only-of-type {\n        vertical-align: middle;\n    }\n\n    .dataframe tbody tr th {\n        vertical-align: top;\n    }\n\n    .dataframe thead th {\n        text-align: right;\n    }\n</style>\n<table border=\"1\" class=\"dataframe\">\n  <thead>\n    <tr style=\"text-align: right;\">\n      <th></th>\n      <th>Cost diferencial (M€)</th>\n      <th>Cost unitari reducció incompliments (M€)</th>\n    </tr>\n  </thead>\n  <tbody>\n    <tr>\n      <th>0</th>\n      <td>8.543056</td>\n      <td>0.776641</td>\n    </tr>\n    <tr>\n      <th>1</th>\n      <td>11.977083</td>\n      <td>1.088826</td>\n    </tr>\n    <tr>\n      <th>2</th>\n      <td>17.375624</td>\n      <td>1.579602</td>\n    </tr>\n    <tr>\n      <th>3</th>\n      <td>15.687071</td>\n      <td>1.568707</td>\n    </tr>\n    <tr>\n      <th>4</th>\n      <td>9.501988</td>\n      <td>1.055776</td>\n    </tr>\n    <tr>\n      <th>5</th>\n      <td>10.927457</td>\n      <td>1.214162</td>\n    </tr>\n    <tr>\n      <th>6</th>\n      <td>13.616619</td>\n      <td>1.512958</td>\n    </tr>\n    <tr>\n      <th>7</th>\n      <td>16.783128</td>\n      <td>1.864792</td>\n    </tr>\n    <tr>\n      <th>8</th>\n      <td>9.693413</td>\n      <td>1.211677</td>\n    </tr>\n    <tr>\n      <th>9</th>\n      <td>10.481518</td>\n      <td>1.310190</td>\n    </tr>\n    <tr>\n      <th>10</th>\n      <td>10.972471</td>\n      <td>1.371559</td>\n    </tr>\n    <tr>\n      <th>11</th>\n      <td>12.257719</td>\n      <td>1.532215</td>\n    </tr>\n    <tr>\n      <th>12</th>\n      <td>15.767161</td>\n      <td>1.970895</td>\n    </tr>\n    <tr>\n      <th>13</th>\n      <td>10.481037</td>\n      <td>1.497291</td>\n    </tr>\n    <tr>\n      <th>14</th>\n      <td>11.138834</td>\n      <td>1.591262</td>\n    </tr>\n    <tr>\n      <th>15</th>\n      <td>13.492597</td>\n      <td>1.927514</td>\n    </tr>\n    <tr>\n      <th>16</th>\n      <td>14.628932</td>\n      <td>2.089847</td>\n    </tr>\n    <tr>\n      <th>17</th>\n      <td>16.678839</td>\n      <td>2.382691</td>\n    </tr>\n    <tr>\n      <th>18</th>\n      <td>19.277291</td>\n      <td>2.753899</td>\n    </tr>\n    <tr>\n      <th>19</th>\n      <td>7.723411</td>\n      <td>1.287235</td>\n    </tr>\n    <tr>\n      <th>20</th>\n      <td>8.159043</td>\n      <td>1.359840</td>\n    </tr>\n    <tr>\n      <th>21</th>\n      <td>12.625978</td>\n      <td>2.104330</td>\n    </tr>\n    <tr>\n      <th>22</th>\n      <td>6.304502</td>\n      <td>1.260900</td>\n    </tr>\n    <tr>\n      <th>23</th>\n      <td>6.590129</td>\n      <td>1.318026</td>\n    </tr>\n    <tr>\n      <th>24</th>\n      <td>6.839604</td>\n      <td>1.367921</td>\n    </tr>\n    <tr>\n      <th>25</th>\n      <td>7.128295</td>\n      <td>1.425659</td>\n    </tr>\n    <tr>\n      <th>26</th>\n      <td>7.501421</td>\n      <td>1.500284</td>\n    </tr>\n    <tr>\n      <th>27</th>\n      <td>9.060042</td>\n      <td>1.812008</td>\n    </tr>\n    <tr>\n      <th>28</th>\n      <td>9.105940</td>\n      <td>1.821188</td>\n    </tr>\n    <tr>\n      <th>29</th>\n      <td>10.499412</td>\n      <td>2.099882</td>\n    </tr>\n    <tr>\n      <th>30</th>\n      <td>11.320904</td>\n      <td>2.264181</td>\n    </tr>\n    <tr>\n      <th>31</th>\n      <td>11.591243</td>\n      <td>2.318249</td>\n    </tr>\n    <tr>\n      <th>32</th>\n      <td>12.692490</td>\n      <td>2.538498</td>\n    </tr>\n    <tr>\n      <th>33</th>\n      <td>14.494179</td>\n      <td>2.898836</td>\n    </tr>\n    <tr>\n      <th>34</th>\n      <td>6.932983</td>\n      <td>1.733246</td>\n    </tr>\n    <tr>\n      <th>35</th>\n      <td>7.264694</td>\n      <td>1.816173</td>\n    </tr>\n    <tr>\n      <th>36</th>\n      <td>8.260509</td>\n      <td>2.065127</td>\n    </tr>\n    <tr>\n      <th>37</th>\n      <td>9.838023</td>\n      <td>2.459506</td>\n    </tr>\n    <tr>\n      <th>38</th>\n      <td>9.904669</td>\n      <td>2.476167</td>\n    </tr>\n    <tr>\n      <th>39</th>\n      <td>9.990931</td>\n      <td>2.497733</td>\n    </tr>\n    <tr>\n      <th>40</th>\n      <td>10.099566</td>\n      <td>2.524891</td>\n    </tr>\n    <tr>\n      <th>41</th>\n      <td>11.098249</td>\n      <td>2.774562</td>\n    </tr>\n    <tr>\n      <th>42</th>\n      <td>11.281486</td>\n      <td>2.820371</td>\n    </tr>\n    <tr>\n      <th>43</th>\n      <td>11.410791</td>\n      <td>2.852698</td>\n    </tr>\n    <tr>\n      <th>44</th>\n      <td>12.044175</td>\n      <td>3.011044</td>\n    </tr>\n    <tr>\n      <th>45</th>\n      <td>13.443831</td>\n      <td>3.360958</td>\n    </tr>\n    <tr>\n      <th>46</th>\n      <td>14.062762</td>\n      <td>3.515690</td>\n    </tr>\n    <tr>\n      <th>47</th>\n      <td>15.307934</td>\n      <td>3.826984</td>\n    </tr>\n    <tr>\n      <th>48</th>\n      <td>15.581822</td>\n      <td>3.895456</td>\n    </tr>\n    <tr>\n      <th>49</th>\n      <td>6.246697</td>\n      <td>2.082232</td>\n    </tr>\n    <tr>\n      <th>50</th>\n      <td>7.664286</td>\n      <td>2.554762</td>\n    </tr>\n    <tr>\n      <th>51</th>\n      <td>9.010963</td>\n      <td>3.003654</td>\n    </tr>\n    <tr>\n      <th>52</th>\n      <td>10.641867</td>\n      <td>3.547289</td>\n    </tr>\n    <tr>\n      <th>53</th>\n      <td>10.915831</td>\n      <td>3.638610</td>\n    </tr>\n    <tr>\n      <th>54</th>\n      <td>12.332186</td>\n      <td>4.110729</td>\n    </tr>\n    <tr>\n      <th>55</th>\n      <td>12.621253</td>\n      <td>4.207084</td>\n    </tr>\n    <tr>\n      <th>56</th>\n      <td>13.790102</td>\n      <td>4.596701</td>\n    </tr>\n    <tr>\n      <th>57</th>\n      <td>13.930694</td>\n      <td>4.643565</td>\n    </tr>\n    <tr>\n      <th>58</th>\n      <td>6.952954</td>\n      <td>3.476477</td>\n    </tr>\n    <tr>\n      <th>59</th>\n      <td>8.634044</td>\n      <td>4.317022</td>\n    </tr>\n  </tbody>\n</table>\n</div>"
     },
     "execution_count": 92,
     "metadata": {},
     "output_type": "execute_result"
    }
   ],
   "source": [
    "pd.DataFrame({'Cost diferencial (M€)': x, 'Cost unitari reducció incompliments (M€)': y}) "
   ]
  },
  {
   "cell_type": "code",
   "execution_count": 27,
   "id": "40827661",
   "metadata": {
    "pycharm": {
     "name": "#%%\n"
    }
   },
   "outputs": [
    {
     "data": {
      "image/png": "[encoded data removed]",
      "text/plain": [
       "<Figure size 640x480 with 1 Axes>"
      ]
     },
     "metadata": {},
     "output_type": "display_data"
    }
   ],
   "source": [
    "\"\"\"\n",
    "Figura 4. Relació entre la reducció en el nombre d’incompliments i el quocient entre el cost diferencial \n",
    "i la reducció en el nombre d’incompliments (cost unitari reducció). \n",
    "\"\"\"\n",
    "x = []\n",
    "y = []\n",
    "for configuracio in configuracions:\n",
    "    cost_diferencial = configuracio['Cost diferencial']\n",
    "    n_incompliments = configuracio['Nombre incompliments']\n",
    "    \n",
    "    if n_incompliments < incompliments_escenari_base:\n",
    "        x.append(incompliments_escenari_base - n_incompliments)\n",
    "        y.append((cost_diferencial / 1000000) / (incompliments_escenari_base - n_incompliments))\n",
    "    \n",
    "plt.scatter(x, y)\n",
    "plt.show()"
   ]
  },
  {
   "cell_type": "code",
   "execution_count": 28,
   "id": "bf54d28d",
   "metadata": {
    "pycharm": {
     "name": "#%%\n"
    }
   },
   "outputs": [
    {
     "data": {
      "text/html": [
       "<div>\n",
       "<style scoped>\n",
       "    .dataframe tbody tr th:only-of-type {\n",
       "        vertical-align: middle;\n",
       "    }\n",
       "\n",
       "    .dataframe tbody tr th {\n",
       "        vertical-align: top;\n",
       "    }\n",
       "\n",
       "    .dataframe thead th {\n",
       "        text-align: right;\n",
       "    }\n",
       "</style>\n",
       "<table border=\"1\" class=\"dataframe\">\n",
       "  <thead>\n",
       "    <tr style=\"text-align: right;\">\n",
       "      <th></th>\n",
       "      <th>Reducció nombre d'incompliments</th>\n",
       "      <th>Cost unitari reducció incompliments (M€)</th>\n",
       "    </tr>\n",
       "  </thead>\n",
       "  <tbody>\n",
       "    <tr>\n",
       "      <th>0</th>\n",
       "      <td>13</td>\n",
       "      <td>0.639773</td>\n",
       "    </tr>\n",
       "    <tr>\n",
       "      <th>1</th>\n",
       "      <td>13</td>\n",
       "      <td>0.643153</td>\n",
       "    </tr>\n",
       "    <tr>\n",
       "      <th>2</th>\n",
       "      <td>13</td>\n",
       "      <td>0.645190</td>\n",
       "    </tr>\n",
       "    <tr>\n",
       "      <th>3</th>\n",
       "      <td>13</td>\n",
       "      <td>0.648570</td>\n",
       "    </tr>\n",
       "    <tr>\n",
       "      <th>4</th>\n",
       "      <td>13</td>\n",
       "      <td>0.682904</td>\n",
       "    </tr>\n",
       "    <tr>\n",
       "      <th>...</th>\n",
       "      <td>...</td>\n",
       "      <td>...</td>\n",
       "    </tr>\n",
       "    <tr>\n",
       "      <th>1075229</th>\n",
       "      <td>1</td>\n",
       "      <td>19.229701</td>\n",
       "    </tr>\n",
       "    <tr>\n",
       "      <th>1075230</th>\n",
       "      <td>1</td>\n",
       "      <td>19.303251</td>\n",
       "    </tr>\n",
       "    <tr>\n",
       "      <th>1075231</th>\n",
       "      <td>1</td>\n",
       "      <td>19.318549</td>\n",
       "    </tr>\n",
       "    <tr>\n",
       "      <th>1075232</th>\n",
       "      <td>1</td>\n",
       "      <td>19.445432</td>\n",
       "    </tr>\n",
       "    <tr>\n",
       "      <th>1075233</th>\n",
       "      <td>1</td>\n",
       "      <td>19.515846</td>\n",
       "    </tr>\n",
       "  </tbody>\n",
       "</table>\n",
       "<p>1075234 rows × 2 columns</p>\n",
       "</div>"
      ],
      "text/plain": [
       "         Reducció nombre d'incompliments  \\\n",
       "0                                     13   \n",
       "1                                     13   \n",
       "2                                     13   \n",
       "3                                     13   \n",
       "4                                     13   \n",
       "...                                  ...   \n",
       "1075229                                1   \n",
       "1075230                                1   \n",
       "1075231                                1   \n",
       "1075232                                1   \n",
       "1075233                                1   \n",
       "\n",
       "         Cost unitari reducció incompliments (M€)  \n",
       "0                                        0.639773  \n",
       "1                                        0.643153  \n",
       "2                                        0.645190  \n",
       "3                                        0.648570  \n",
       "4                                        0.682904  \n",
       "...                                           ...  \n",
       "1075229                                 19.229701  \n",
       "1075230                                 19.303251  \n",
       "1075231                                 19.318549  \n",
       "1075232                                 19.445432  \n",
       "1075233                                 19.515846  \n",
       "\n",
       "[1075234 rows x 2 columns]"
      ]
     },
     "execution_count": 28,
     "metadata": {},
     "output_type": "execute_result"
    }
   ],
   "source": [
    "pd.DataFrame({\"Reducció nombre d'incompliments\": x, 'Cost unitari reducció incompliments (M€)': y}) "
   ]
  },
  {
   "cell_type": "code",
   "execution_count": 73,
   "outputs": [
    {
     "name": "stdout",
     "output_type": "stream",
     "text": [
      "19.89994361579606\n",
      "16.569635196828884\n",
      "15.662158263606951\n",
      "17.268638548325946\n",
      "15.930932816704049\n",
      "13.696800977689009\n",
      "15.579754400524802\n",
      "16.200086882608993\n",
      "18.99684032428091\n",
      "18.91131447461104\n",
      "18.988766076235372\n",
      "18.385736400223426\n",
      "19.587787649994183\n",
      "15.499248528815237\n",
      "14.991545308862047\n",
      "13.423032582431949\n",
      "11.338351682983204\n",
      "17.582332976726534\n",
      "17.72153588862966\n",
      "19.77480023711255\n"
     ]
    }
   ],
   "source": [
    "import random\n",
    "\n",
    "for i in range(20):\n",
    "    print(10 + (20 - 10) * pow(random.random(), 0.5))"
   ],
   "metadata": {
    "collapsed": false,
    "pycharm": {
     "name": "#%%\n"
    }
   }
  },
  {
   "cell_type": "code",
   "execution_count": null,
   "outputs": [],
   "source": [],
   "metadata": {
    "collapsed": false,
    "pycharm": {
     "name": "#%%\n"
    }
   }
  }
 ],
 "metadata": {
  "kernelspec": {
   "display_name": "Python 3 (ipykernel)",
   "language": "python",
   "name": "python3"
  },
  "language_info": {
   "codemirror_mode": {
    "name": "ipython",
    "version": 3
   },
   "file_extension": ".py",
   "mimetype": "text/x-python",
   "name": "python",
   "nbconvert_exporter": "python",
   "pygments_lexer": "ipython3",
   "version": "3.10.5"
  }
 },
 "nbformat": 4,
 "nbformat_minor": 5
}