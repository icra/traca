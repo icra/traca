{
 "cells": [
  {
   "cell_type": "code",
   "execution_count": 1,
   "id": "df8e870a",
   "metadata": {
    "pycharm": {
     "name": "#%%\n"
    }
   },
   "outputs": [],
   "source": [
    "import pandas as pd\n",
    "import json\n",
    "import matplotlib.pyplot as plt\n",
    "import numpy as np\n",
    "import datetime"
   ]
  },
  {
   "cell_type": "code",
   "execution_count": 3,
   "id": "71765503",
   "metadata": {
    "pycharm": {
     "name": "#%%\n"
    }
   },
   "outputs": [],
   "source": [
    "contaminants_i_nutrients = [\"Ciprofloxacina\", \"Clorobenzè\", \"Hexabromociclodecà\", \"Nonilfenols\", \"Octilfenols\", \"Tetracloroetilè\", \"Triclorometà\", \"Cloroalcans\", \"Niquel dissolt\", \"Plom dissolt\", \"Diuron\"]\n"
   ]
  },
  {
   "cell_type": "code",
   "execution_count": 16,
   "outputs": [],
   "source": [
    "def f(unit, value):\n",
    "    if \"µg\" in unit:\n",
    "        return float(value) * 1000\n",
    "    elif \"mg\" in unit:\n",
    "        return float(value) * 1000000\n",
    "    else:\n",
    "        return float(value)"
   ],
   "metadata": {
    "collapsed": false,
    "pycharm": {
     "name": "#%%\n"
    }
   }
  },
  {
   "cell_type": "code",
   "execution_count": null,
   "outputs": [],
   "source": [],
   "metadata": {
    "collapsed": false,
    "pycharm": {
     "name": "#%%\n"
    }
   }
  },
  {
   "cell_type": "code",
   "execution_count": 50,
   "outputs": [
    {
     "data": {
      "text/plain": "         index      fecha                                           estacion  \\\n0       618527 2009-01-13  QLSup - Riu Anoia des de l'EDAR d'Igualda fins...   \n1       618528 2008-12-30  QLSup - Riu Anoia des de l'EDAR d'Igualda fins...   \n2       618529 2008-11-19  QLSup - Riu Anoia des de l'EDAR d'Igualda fins...   \n3       618530 2008-10-01  QLSup - Riu Anoia des de l'EDAR d'Igualda fins...   \n4       618531 2008-02-13  QLSup - Riu Anoia des de l'EDAR d'Igualda fins...   \n...        ...        ...                                                ...   \n103808  618522 2010-11-23  QLSup - Riu Anoia des de l'EDAR d'Igualda fins...   \n103809  618523 2009-12-29  QLSup - Riu Anoia des de l'EDAR d'Igualda fins...   \n103810  618524 2009-04-01  QLSup - Riu Anoia des de l'EDAR d'Igualda fins...   \n103811  618525 2009-05-06  QLSup - Riu Anoia des de l'EDAR d'Igualda fins...   \n103812  618526 2009-03-23  QLSup - Riu Anoia des de l'EDAR d'Igualda fins...   \n\n       cod_estaci     utm_x      utm_y        variable unidad_med valor_alfa  \\\n0         F007452  389318.0  4602196.0  Niquel dissolt       µg/L      0.003   \n1         F007452  389318.0  4602196.0  Niquel dissolt       µg/L      0.002   \n2         F007452  389318.0  4602196.0  Niquel dissolt       µg/L      0.011   \n3         F007452  389318.0  4602196.0  Niquel dissolt       µg/L      0.015   \n4         F007452  389318.0  4602196.0  Niquel dissolt       µg/L      0.026   \n...           ...       ...        ...             ...        ...        ...   \n103808    F007452  389318.0  4602196.0  Niquel dissolt       µg/L      0.012   \n103809    F007452  389318.0  4602196.0  Niquel dissolt       µg/L      0.006   \n103810    F007452  389318.0  4602196.0  Niquel dissolt       µg/L      0.011   \n103811    F007452  389318.0  4602196.0  Niquel dissolt       µg/L      0.008   \n103812    F007452  389318.0  4602196.0  Niquel dissolt       µg/L      0.007   \n\n        valor  codi_aca  valor ng/L  \n0         3.0   1000800      3000.0  \n1         2.0   1000800      2000.0  \n2        11.0   1000800     11000.0  \n3        15.0   1000800     15000.0  \n4        26.0   1000800     26000.0  \n...       ...       ...         ...  \n103808   12.0   1000800     12000.0  \n103809    6.0   1000800      6000.0  \n103810   11.0   1000800     11000.0  \n103811    8.0   1000800      8000.0  \n103812    7.0   1000800      7000.0  \n\n[1343 rows x 12 columns]",
      "text/html": "<div>\n<style scoped>\n    .dataframe tbody tr th:only-of-type {\n        vertical-align: middle;\n    }\n\n    .dataframe tbody tr th {\n        vertical-align: top;\n    }\n\n    .dataframe thead th {\n        text-align: right;\n    }\n</style>\n<table border=\"1\" class=\"dataframe\">\n  <thead>\n    <tr style=\"text-align: right;\">\n      <th></th>\n      <th>index</th>\n      <th>fecha</th>\n      <th>estacion</th>\n      <th>cod_estaci</th>\n      <th>utm_x</th>\n      <th>utm_y</th>\n      <th>variable</th>\n      <th>unidad_med</th>\n      <th>valor_alfa</th>\n      <th>valor</th>\n      <th>codi_aca</th>\n      <th>valor ng/L</th>\n    </tr>\n  </thead>\n  <tbody>\n    <tr>\n      <th>0</th>\n      <td>618527</td>\n      <td>2009-01-13</td>\n      <td>QLSup - Riu Anoia des de l'EDAR d'Igualda fins...</td>\n      <td>F007452</td>\n      <td>389318.0</td>\n      <td>4602196.0</td>\n      <td>Niquel dissolt</td>\n      <td>µg/L</td>\n      <td>0.003</td>\n      <td>3.0</td>\n      <td>1000800</td>\n      <td>3000.0</td>\n    </tr>\n    <tr>\n      <th>1</th>\n      <td>618528</td>\n      <td>2008-12-30</td>\n      <td>QLSup - Riu Anoia des de l'EDAR d'Igualda fins...</td>\n      <td>F007452</td>\n      <td>389318.0</td>\n      <td>4602196.0</td>\n      <td>Niquel dissolt</td>\n      <td>µg/L</td>\n      <td>0.002</td>\n      <td>2.0</td>\n      <td>1000800</td>\n      <td>2000.0</td>\n    </tr>\n    <tr>\n      <th>2</th>\n      <td>618529</td>\n      <td>2008-11-19</td>\n      <td>QLSup - Riu Anoia des de l'EDAR d'Igualda fins...</td>\n      <td>F007452</td>\n      <td>389318.0</td>\n      <td>4602196.0</td>\n      <td>Niquel dissolt</td>\n      <td>µg/L</td>\n      <td>0.011</td>\n      <td>11.0</td>\n      <td>1000800</td>\n      <td>11000.0</td>\n    </tr>\n    <tr>\n      <th>3</th>\n      <td>618530</td>\n      <td>2008-10-01</td>\n      <td>QLSup - Riu Anoia des de l'EDAR d'Igualda fins...</td>\n      <td>F007452</td>\n      <td>389318.0</td>\n      <td>4602196.0</td>\n      <td>Niquel dissolt</td>\n      <td>µg/L</td>\n      <td>0.015</td>\n      <td>15.0</td>\n      <td>1000800</td>\n      <td>15000.0</td>\n    </tr>\n    <tr>\n      <th>4</th>\n      <td>618531</td>\n      <td>2008-02-13</td>\n      <td>QLSup - Riu Anoia des de l'EDAR d'Igualda fins...</td>\n      <td>F007452</td>\n      <td>389318.0</td>\n      <td>4602196.0</td>\n      <td>Niquel dissolt</td>\n      <td>µg/L</td>\n      <td>0.026</td>\n      <td>26.0</td>\n      <td>1000800</td>\n      <td>26000.0</td>\n    </tr>\n    <tr>\n      <th>...</th>\n      <td>...</td>\n      <td>...</td>\n      <td>...</td>\n      <td>...</td>\n      <td>...</td>\n      <td>...</td>\n      <td>...</td>\n      <td>...</td>\n      <td>...</td>\n      <td>...</td>\n      <td>...</td>\n      <td>...</td>\n    </tr>\n    <tr>\n      <th>103808</th>\n      <td>618522</td>\n      <td>2010-11-23</td>\n      <td>QLSup - Riu Anoia des de l'EDAR d'Igualda fins...</td>\n      <td>F007452</td>\n      <td>389318.0</td>\n      <td>4602196.0</td>\n      <td>Niquel dissolt</td>\n      <td>µg/L</td>\n      <td>0.012</td>\n      <td>12.0</td>\n      <td>1000800</td>\n      <td>12000.0</td>\n    </tr>\n    <tr>\n      <th>103809</th>\n      <td>618523</td>\n      <td>2009-12-29</td>\n      <td>QLSup - Riu Anoia des de l'EDAR d'Igualda fins...</td>\n      <td>F007452</td>\n      <td>389318.0</td>\n      <td>4602196.0</td>\n      <td>Niquel dissolt</td>\n      <td>µg/L</td>\n      <td>0.006</td>\n      <td>6.0</td>\n      <td>1000800</td>\n      <td>6000.0</td>\n    </tr>\n    <tr>\n      <th>103810</th>\n      <td>618524</td>\n      <td>2009-04-01</td>\n      <td>QLSup - Riu Anoia des de l'EDAR d'Igualda fins...</td>\n      <td>F007452</td>\n      <td>389318.0</td>\n      <td>4602196.0</td>\n      <td>Niquel dissolt</td>\n      <td>µg/L</td>\n      <td>0.011</td>\n      <td>11.0</td>\n      <td>1000800</td>\n      <td>11000.0</td>\n    </tr>\n    <tr>\n      <th>103811</th>\n      <td>618525</td>\n      <td>2009-05-06</td>\n      <td>QLSup - Riu Anoia des de l'EDAR d'Igualda fins...</td>\n      <td>F007452</td>\n      <td>389318.0</td>\n      <td>4602196.0</td>\n      <td>Niquel dissolt</td>\n      <td>µg/L</td>\n      <td>0.008</td>\n      <td>8.0</td>\n      <td>1000800</td>\n      <td>8000.0</td>\n    </tr>\n    <tr>\n      <th>103812</th>\n      <td>618526</td>\n      <td>2009-03-23</td>\n      <td>QLSup - Riu Anoia des de l'EDAR d'Igualda fins...</td>\n      <td>F007452</td>\n      <td>389318.0</td>\n      <td>4602196.0</td>\n      <td>Niquel dissolt</td>\n      <td>µg/L</td>\n      <td>0.007</td>\n      <td>7.0</td>\n      <td>1000800</td>\n      <td>7000.0</td>\n    </tr>\n  </tbody>\n</table>\n<p>1343 rows × 12 columns</p>\n</div>"
     },
     "execution_count": 50,
     "metadata": {},
     "output_type": "execute_result"
    }
   ],
   "source": [
    "df = pd.read_csv(\"inputs/estacions_full_MA.csv\", encoding='latin1')\n",
    "df = df[df['variable'].isin(contaminants_i_nutrients)]\n",
    "df[\"valor ng/L\"] = df.apply(lambda row: f(row['unidad_med'], row['valor']), axis=1)\n",
    "df['fecha'] = pd.to_datetime(df['fecha'], infer_datetime_format = True)\n",
    "start = datetime.date(2015, 1, 1).strftime('%Y%m%d')\n",
    "end = datetime.date(2020, 12, 31).strftime('%Y%m%d')\n",
    "df\n",
    "\n"
   ],
   "metadata": {
    "collapsed": false,
    "pycharm": {
     "name": "#%%\n"
    }
   }
  },
  {
   "cell_type": "code",
   "execution_count": 33,
   "outputs": [
    {
     "data": {
      "text/plain": "                     1000950  1000940  1000900  1000930  1000860  1000920  \\\nContaminant                                                                 \nCiprofloxacina          89.0     89.0     89.0     89.0     89.0     89.0   \nClorobenzè           20000.0  20000.0  20000.0  20000.0  20000.0  20000.0   \nHexabromociclodecà       1.6      1.6      1.6      1.6      1.6      1.6   \nMercuri dissolt         70.0     70.0   1000.0     70.0     70.0     70.0   \nNonilfenols            300.0    300.0    300.0    300.0    300.0    300.0   \nOctilfenols            100.0    100.0    100.0    100.0    100.0    100.0   \nSulfametoxazol         100.0    100.0    100.0    100.0    100.0    100.0   \nTetracloroetilè      10000.0  10000.0  10000.0  10000.0  10000.0  10000.0   \nTriclorometà          2500.0   2500.0   2500.0   2500.0   2500.0   2500.0   \nTrimetoprim            100.0    100.0    100.0    100.0    100.0    100.0   \nVenlafaxina              6.0      6.0      6.0      6.0      6.0      6.0   \nZinc dissolt        500000.0  30000.0  30000.0  30000.0  30000.0  30000.0   \nCloroalcans            400.0    400.0    400.0    400.0    400.0    400.0   \nNiquel dissolt       20000.0  20000.0  20000.0  20000.0  20000.0  20000.0   \nPlom dissolt          7200.0   7200.0   5000.0   7200.0   7200.0   7200.0   \nDiuron                 200.0    200.0    200.0    200.0    200.0    200.0   \n\n                    1000910  1000850  1000840  1000880  ...  1000760  1000770  \\\nContaminant                                             ...                     \nCiprofloxacina         89.0     89.0     89.0     89.0  ...     89.0     89.0   \nClorobenzè          20000.0  20000.0  20000.0  20000.0  ...  20000.0  20000.0   \nHexabromociclodecà      1.6      1.6      1.6      1.6  ...      1.6      1.6   \nMercuri dissolt        70.0     70.0     70.0     70.0  ...     70.0     70.0   \nNonilfenols           300.0    300.0    300.0    300.0  ...    300.0    300.0   \nOctilfenols           100.0    100.0    100.0    100.0  ...    100.0    100.0   \nSulfametoxazol        100.0    100.0    100.0    100.0  ...    100.0    100.0   \nTetracloroetilè     10000.0  10000.0  10000.0  10000.0  ...  10000.0  10000.0   \nTriclorometà         2500.0   2500.0   2500.0   2500.0  ...   2500.0   2500.0   \nTrimetoprim           100.0    100.0    100.0    100.0  ...    100.0    100.0   \nVenlafaxina             6.0      6.0      6.0      6.0  ...      6.0      6.0   \nZinc dissolt        30000.0  30000.0  30000.0  30000.0  ...  30000.0  30000.0   \nCloroalcans           400.0    400.0    400.0    400.0  ...    400.0    400.0   \nNiquel dissolt      20000.0  20000.0  20000.0  20000.0  ...  20000.0  20000.0   \nPlom dissolt         7200.0   7200.0   7200.0   7200.0  ...   7200.0   7200.0   \nDiuron                200.0    200.0    200.0    200.0  ...    200.0    200.0   \n\n                    1000750  1000740  1000800  1000710  1000720  1000730  \\\nContaminant                                                                \nCiprofloxacina         89.0     89.0     89.0     89.0     89.0     89.0   \nClorobenzè          20000.0  20000.0  20000.0  20000.0  20000.0  20000.0   \nHexabromociclodecà      1.6      1.6      1.6      1.6      1.6      1.6   \nMercuri dissolt        70.0   1000.0     70.0     70.0     70.0     70.0   \nNonilfenols           300.0    300.0    300.0    300.0    300.0    300.0   \nOctilfenols           100.0    100.0    100.0    100.0    100.0    100.0   \nSulfametoxazol        100.0    100.0    100.0    100.0    100.0    100.0   \nTetracloroetilè     10000.0  10000.0  10000.0  10000.0  10000.0  10000.0   \nTriclorometà         2500.0   2500.0   2500.0   2500.0   2500.0   2500.0   \nTrimetoprim           100.0    100.0    100.0    100.0    100.0    100.0   \nVenlafaxina             6.0      6.0      6.0      6.0      6.0      6.0   \nZinc dissolt        30000.0  30000.0  30000.0  30000.0  30000.0  30000.0   \nCloroalcans           400.0    400.0    400.0    400.0    400.0    400.0   \nNiquel dissolt      20000.0  20000.0  20000.0  20000.0  20000.0  20000.0   \nPlom dissolt         7200.0   5000.0   7200.0   7200.0   7200.0   7200.0   \nDiuron                200.0    200.0    200.0    200.0    200.0    200.0   \n\n                    1000690  1000700  \nContaminant                           \nCiprofloxacina         89.0     89.0  \nClorobenzè          20000.0  20000.0  \nHexabromociclodecà      1.6      1.6  \nMercuri dissolt        70.0     70.0  \nNonilfenols           300.0    300.0  \nOctilfenols           100.0    100.0  \nSulfametoxazol        100.0    100.0  \nTetracloroetilè     10000.0  10000.0  \nTriclorometà         2500.0   2500.0  \nTrimetoprim           100.0    100.0  \nVenlafaxina             6.0      6.0  \nZinc dissolt        30000.0  30000.0  \nCloroalcans           400.0    400.0  \nNiquel dissolt      20000.0  20000.0  \nPlom dissolt         7200.0   7200.0  \nDiuron                200.0    200.0  \n\n[16 rows x 25 columns]",
      "text/html": "<div>\n<style scoped>\n    .dataframe tbody tr th:only-of-type {\n        vertical-align: middle;\n    }\n\n    .dataframe tbody tr th {\n        vertical-align: top;\n    }\n\n    .dataframe thead th {\n        text-align: right;\n    }\n</style>\n<table border=\"1\" class=\"dataframe\">\n  <thead>\n    <tr style=\"text-align: right;\">\n      <th></th>\n      <th>1000950</th>\n      <th>1000940</th>\n      <th>1000900</th>\n      <th>1000930</th>\n      <th>1000860</th>\n      <th>1000920</th>\n      <th>1000910</th>\n      <th>1000850</th>\n      <th>1000840</th>\n      <th>1000880</th>\n      <th>...</th>\n      <th>1000760</th>\n      <th>1000770</th>\n      <th>1000750</th>\n      <th>1000740</th>\n      <th>1000800</th>\n      <th>1000710</th>\n      <th>1000720</th>\n      <th>1000730</th>\n      <th>1000690</th>\n      <th>1000700</th>\n    </tr>\n    <tr>\n      <th>Contaminant</th>\n      <th></th>\n      <th></th>\n      <th></th>\n      <th></th>\n      <th></th>\n      <th></th>\n      <th></th>\n      <th></th>\n      <th></th>\n      <th></th>\n      <th></th>\n      <th></th>\n      <th></th>\n      <th></th>\n      <th></th>\n      <th></th>\n      <th></th>\n      <th></th>\n      <th></th>\n      <th></th>\n      <th></th>\n    </tr>\n  </thead>\n  <tbody>\n    <tr>\n      <th>Ciprofloxacina</th>\n      <td>89.0</td>\n      <td>89.0</td>\n      <td>89.0</td>\n      <td>89.0</td>\n      <td>89.0</td>\n      <td>89.0</td>\n      <td>89.0</td>\n      <td>89.0</td>\n      <td>89.0</td>\n      <td>89.0</td>\n      <td>...</td>\n      <td>89.0</td>\n      <td>89.0</td>\n      <td>89.0</td>\n      <td>89.0</td>\n      <td>89.0</td>\n      <td>89.0</td>\n      <td>89.0</td>\n      <td>89.0</td>\n      <td>89.0</td>\n      <td>89.0</td>\n    </tr>\n    <tr>\n      <th>Clorobenzè</th>\n      <td>20000.0</td>\n      <td>20000.0</td>\n      <td>20000.0</td>\n      <td>20000.0</td>\n      <td>20000.0</td>\n      <td>20000.0</td>\n      <td>20000.0</td>\n      <td>20000.0</td>\n      <td>20000.0</td>\n      <td>20000.0</td>\n      <td>...</td>\n      <td>20000.0</td>\n      <td>20000.0</td>\n      <td>20000.0</td>\n      <td>20000.0</td>\n      <td>20000.0</td>\n      <td>20000.0</td>\n      <td>20000.0</td>\n      <td>20000.0</td>\n      <td>20000.0</td>\n      <td>20000.0</td>\n    </tr>\n    <tr>\n      <th>Hexabromociclodecà</th>\n      <td>1.6</td>\n      <td>1.6</td>\n      <td>1.6</td>\n      <td>1.6</td>\n      <td>1.6</td>\n      <td>1.6</td>\n      <td>1.6</td>\n      <td>1.6</td>\n      <td>1.6</td>\n      <td>1.6</td>\n      <td>...</td>\n      <td>1.6</td>\n      <td>1.6</td>\n      <td>1.6</td>\n      <td>1.6</td>\n      <td>1.6</td>\n      <td>1.6</td>\n      <td>1.6</td>\n      <td>1.6</td>\n      <td>1.6</td>\n      <td>1.6</td>\n    </tr>\n    <tr>\n      <th>Mercuri dissolt</th>\n      <td>70.0</td>\n      <td>70.0</td>\n      <td>1000.0</td>\n      <td>70.0</td>\n      <td>70.0</td>\n      <td>70.0</td>\n      <td>70.0</td>\n      <td>70.0</td>\n      <td>70.0</td>\n      <td>70.0</td>\n      <td>...</td>\n      <td>70.0</td>\n      <td>70.0</td>\n      <td>70.0</td>\n      <td>1000.0</td>\n      <td>70.0</td>\n      <td>70.0</td>\n      <td>70.0</td>\n      <td>70.0</td>\n      <td>70.0</td>\n      <td>70.0</td>\n    </tr>\n    <tr>\n      <th>Nonilfenols</th>\n      <td>300.0</td>\n      <td>300.0</td>\n      <td>300.0</td>\n      <td>300.0</td>\n      <td>300.0</td>\n      <td>300.0</td>\n      <td>300.0</td>\n      <td>300.0</td>\n      <td>300.0</td>\n      <td>300.0</td>\n      <td>...</td>\n      <td>300.0</td>\n      <td>300.0</td>\n      <td>300.0</td>\n      <td>300.0</td>\n      <td>300.0</td>\n      <td>300.0</td>\n      <td>300.0</td>\n      <td>300.0</td>\n      <td>300.0</td>\n      <td>300.0</td>\n    </tr>\n    <tr>\n      <th>Octilfenols</th>\n      <td>100.0</td>\n      <td>100.0</td>\n      <td>100.0</td>\n      <td>100.0</td>\n      <td>100.0</td>\n      <td>100.0</td>\n      <td>100.0</td>\n      <td>100.0</td>\n      <td>100.0</td>\n      <td>100.0</td>\n      <td>...</td>\n      <td>100.0</td>\n      <td>100.0</td>\n      <td>100.0</td>\n      <td>100.0</td>\n      <td>100.0</td>\n      <td>100.0</td>\n      <td>100.0</td>\n      <td>100.0</td>\n      <td>100.0</td>\n      <td>100.0</td>\n    </tr>\n    <tr>\n      <th>Sulfametoxazol</th>\n      <td>100.0</td>\n      <td>100.0</td>\n      <td>100.0</td>\n      <td>100.0</td>\n      <td>100.0</td>\n      <td>100.0</td>\n      <td>100.0</td>\n      <td>100.0</td>\n      <td>100.0</td>\n      <td>100.0</td>\n      <td>...</td>\n      <td>100.0</td>\n      <td>100.0</td>\n      <td>100.0</td>\n      <td>100.0</td>\n      <td>100.0</td>\n      <td>100.0</td>\n      <td>100.0</td>\n      <td>100.0</td>\n      <td>100.0</td>\n      <td>100.0</td>\n    </tr>\n    <tr>\n      <th>Tetracloroetilè</th>\n      <td>10000.0</td>\n      <td>10000.0</td>\n      <td>10000.0</td>\n      <td>10000.0</td>\n      <td>10000.0</td>\n      <td>10000.0</td>\n      <td>10000.0</td>\n      <td>10000.0</td>\n      <td>10000.0</td>\n      <td>10000.0</td>\n      <td>...</td>\n      <td>10000.0</td>\n      <td>10000.0</td>\n      <td>10000.0</td>\n      <td>10000.0</td>\n      <td>10000.0</td>\n      <td>10000.0</td>\n      <td>10000.0</td>\n      <td>10000.0</td>\n      <td>10000.0</td>\n      <td>10000.0</td>\n    </tr>\n    <tr>\n      <th>Triclorometà</th>\n      <td>2500.0</td>\n      <td>2500.0</td>\n      <td>2500.0</td>\n      <td>2500.0</td>\n      <td>2500.0</td>\n      <td>2500.0</td>\n      <td>2500.0</td>\n      <td>2500.0</td>\n      <td>2500.0</td>\n      <td>2500.0</td>\n      <td>...</td>\n      <td>2500.0</td>\n      <td>2500.0</td>\n      <td>2500.0</td>\n      <td>2500.0</td>\n      <td>2500.0</td>\n      <td>2500.0</td>\n      <td>2500.0</td>\n      <td>2500.0</td>\n      <td>2500.0</td>\n      <td>2500.0</td>\n    </tr>\n    <tr>\n      <th>Trimetoprim</th>\n      <td>100.0</td>\n      <td>100.0</td>\n      <td>100.0</td>\n      <td>100.0</td>\n      <td>100.0</td>\n      <td>100.0</td>\n      <td>100.0</td>\n      <td>100.0</td>\n      <td>100.0</td>\n      <td>100.0</td>\n      <td>...</td>\n      <td>100.0</td>\n      <td>100.0</td>\n      <td>100.0</td>\n      <td>100.0</td>\n      <td>100.0</td>\n      <td>100.0</td>\n      <td>100.0</td>\n      <td>100.0</td>\n      <td>100.0</td>\n      <td>100.0</td>\n    </tr>\n    <tr>\n      <th>Venlafaxina</th>\n      <td>6.0</td>\n      <td>6.0</td>\n      <td>6.0</td>\n      <td>6.0</td>\n      <td>6.0</td>\n      <td>6.0</td>\n      <td>6.0</td>\n      <td>6.0</td>\n      <td>6.0</td>\n      <td>6.0</td>\n      <td>...</td>\n      <td>6.0</td>\n      <td>6.0</td>\n      <td>6.0</td>\n      <td>6.0</td>\n      <td>6.0</td>\n      <td>6.0</td>\n      <td>6.0</td>\n      <td>6.0</td>\n      <td>6.0</td>\n      <td>6.0</td>\n    </tr>\n    <tr>\n      <th>Zinc dissolt</th>\n      <td>500000.0</td>\n      <td>30000.0</td>\n      <td>30000.0</td>\n      <td>30000.0</td>\n      <td>30000.0</td>\n      <td>30000.0</td>\n      <td>30000.0</td>\n      <td>30000.0</td>\n      <td>30000.0</td>\n      <td>30000.0</td>\n      <td>...</td>\n      <td>30000.0</td>\n      <td>30000.0</td>\n      <td>30000.0</td>\n      <td>30000.0</td>\n      <td>30000.0</td>\n      <td>30000.0</td>\n      <td>30000.0</td>\n      <td>30000.0</td>\n      <td>30000.0</td>\n      <td>30000.0</td>\n    </tr>\n    <tr>\n      <th>Cloroalcans</th>\n      <td>400.0</td>\n      <td>400.0</td>\n      <td>400.0</td>\n      <td>400.0</td>\n      <td>400.0</td>\n      <td>400.0</td>\n      <td>400.0</td>\n      <td>400.0</td>\n      <td>400.0</td>\n      <td>400.0</td>\n      <td>...</td>\n      <td>400.0</td>\n      <td>400.0</td>\n      <td>400.0</td>\n      <td>400.0</td>\n      <td>400.0</td>\n      <td>400.0</td>\n      <td>400.0</td>\n      <td>400.0</td>\n      <td>400.0</td>\n      <td>400.0</td>\n    </tr>\n    <tr>\n      <th>Niquel dissolt</th>\n      <td>20000.0</td>\n      <td>20000.0</td>\n      <td>20000.0</td>\n      <td>20000.0</td>\n      <td>20000.0</td>\n      <td>20000.0</td>\n      <td>20000.0</td>\n      <td>20000.0</td>\n      <td>20000.0</td>\n      <td>20000.0</td>\n      <td>...</td>\n      <td>20000.0</td>\n      <td>20000.0</td>\n      <td>20000.0</td>\n      <td>20000.0</td>\n      <td>20000.0</td>\n      <td>20000.0</td>\n      <td>20000.0</td>\n      <td>20000.0</td>\n      <td>20000.0</td>\n      <td>20000.0</td>\n    </tr>\n    <tr>\n      <th>Plom dissolt</th>\n      <td>7200.0</td>\n      <td>7200.0</td>\n      <td>5000.0</td>\n      <td>7200.0</td>\n      <td>7200.0</td>\n      <td>7200.0</td>\n      <td>7200.0</td>\n      <td>7200.0</td>\n      <td>7200.0</td>\n      <td>7200.0</td>\n      <td>...</td>\n      <td>7200.0</td>\n      <td>7200.0</td>\n      <td>7200.0</td>\n      <td>5000.0</td>\n      <td>7200.0</td>\n      <td>7200.0</td>\n      <td>7200.0</td>\n      <td>7200.0</td>\n      <td>7200.0</td>\n      <td>7200.0</td>\n    </tr>\n    <tr>\n      <th>Diuron</th>\n      <td>200.0</td>\n      <td>200.0</td>\n      <td>200.0</td>\n      <td>200.0</td>\n      <td>200.0</td>\n      <td>200.0</td>\n      <td>200.0</td>\n      <td>200.0</td>\n      <td>200.0</td>\n      <td>200.0</td>\n      <td>...</td>\n      <td>200.0</td>\n      <td>200.0</td>\n      <td>200.0</td>\n      <td>200.0</td>\n      <td>200.0</td>\n      <td>200.0</td>\n      <td>200.0</td>\n      <td>200.0</td>\n      <td>200.0</td>\n      <td>200.0</td>\n    </tr>\n  </tbody>\n</table>\n<p>16 rows × 25 columns</p>\n</div>"
     },
     "execution_count": 33,
     "metadata": {},
     "output_type": "execute_result"
    }
   ],
   "source": [
    "massa_aigua_df = pd.read_excel(\"..//inputs//llindars_massa_aigua.xlsx\", index_col = 0)\n",
    "massa_aigua_df"
   ],
   "metadata": {
    "collapsed": false,
    "pycharm": {
     "name": "#%%\n"
    }
   }
  },
  {
   "cell_type": "code",
   "execution_count": 53,
   "outputs": [
    {
     "data": {
      "text/plain": "        index      fecha                                           estacion  \\\n109    619030 2019-02-13  QLSup - Riera del Morral del Mol i riera de Sa...   \n160    619555 2018-03-16         QLSup - Riera de Rub i riera de les Arenes   \n270    619970 2010-09-22                              La Pobla de Claramunt   \n280    619992 2010-09-22                                             Abrera   \n377    620437 2010-09-22                                          Martorell   \n...       ...        ...                                                ...   \n91665  556534 2017-10-06  QLSup - El Llobregat des de la confluncia de l...   \n91666  556537 2020-08-12  QLSup - El Llobregat des de la confluncia de l...   \n91667  556538 2020-10-07  QLSup - El Llobregat des de la confluncia de l...   \n91668  556539 2020-11-03  QLSup - El Llobregat des de la confluncia de l...   \n98339  579047 2019-09-25  QLSup - Riu de Bitlles des de l'EDAR de Riudeb...   \n\n      cod_estaci     utm_x      utm_y variable unidad_med valor_alfa  \\\n109      F007449  411356.0  4596167.0   Diuron       µg/L         13   \n160      F007461  416091.0  4589051.0   Diuron       µg/L     276.81   \n270          NaN  388339.0  4602206.0   Diuron       µg/L        NaN   \n280          NaN  410078.0  4594291.0   Diuron       µg/L        NaN   \n377          NaN  411036.0  4592524.0   Diuron       µg/L        NaN   \n...          ...       ...        ...      ...        ...        ...   \n91665    F007462  420246.0  4578238.0   Diuron       ng/L      12.55   \n91666    F007462  420246.0  4578238.0   Diuron       ng/L         15   \n91667    F007462  420246.0  4578238.0   Diuron       ng/L         15   \n91668    F007462  420246.0  4578238.0   Diuron       ng/L         16   \n98339    F007456  398406.0  4588606.0   Diuron       ng/L         13   \n\n          valor  codi_aca  valor ng/L  \n109     0.01300   1000770       13.00  \n160     0.27681   1000890      276.81  \n270     0.02386   1000800       23.86  \n280     0.00775   1000760        7.75  \n377     0.00100   1000760        1.00  \n...         ...       ...         ...  \n91665  12.55000   1000900       12.55  \n91666  15.00000   1000900       15.00  \n91667  15.00000   1000900       15.00  \n91668  16.00000   1000900       16.00  \n98339  13.00000   1000840       13.00  \n\n[178 rows x 12 columns]",
      "text/html": "<div>\n<style scoped>\n    .dataframe tbody tr th:only-of-type {\n        vertical-align: middle;\n    }\n\n    .dataframe tbody tr th {\n        vertical-align: top;\n    }\n\n    .dataframe thead th {\n        text-align: right;\n    }\n</style>\n<table border=\"1\" class=\"dataframe\">\n  <thead>\n    <tr style=\"text-align: right;\">\n      <th></th>\n      <th>index</th>\n      <th>fecha</th>\n      <th>estacion</th>\n      <th>cod_estaci</th>\n      <th>utm_x</th>\n      <th>utm_y</th>\n      <th>variable</th>\n      <th>unidad_med</th>\n      <th>valor_alfa</th>\n      <th>valor</th>\n      <th>codi_aca</th>\n      <th>valor ng/L</th>\n    </tr>\n  </thead>\n  <tbody>\n    <tr>\n      <th>109</th>\n      <td>619030</td>\n      <td>2019-02-13</td>\n      <td>QLSup - Riera del Morral del Mol i riera de Sa...</td>\n      <td>F007449</td>\n      <td>411356.0</td>\n      <td>4596167.0</td>\n      <td>Diuron</td>\n      <td>µg/L</td>\n      <td>13</td>\n      <td>0.01300</td>\n      <td>1000770</td>\n      <td>13.00</td>\n    </tr>\n    <tr>\n      <th>160</th>\n      <td>619555</td>\n      <td>2018-03-16</td>\n      <td>QLSup - Riera de Rub i riera de les Arenes</td>\n      <td>F007461</td>\n      <td>416091.0</td>\n      <td>4589051.0</td>\n      <td>Diuron</td>\n      <td>µg/L</td>\n      <td>276.81</td>\n      <td>0.27681</td>\n      <td>1000890</td>\n      <td>276.81</td>\n    </tr>\n    <tr>\n      <th>270</th>\n      <td>619970</td>\n      <td>2010-09-22</td>\n      <td>La Pobla de Claramunt</td>\n      <td>NaN</td>\n      <td>388339.0</td>\n      <td>4602206.0</td>\n      <td>Diuron</td>\n      <td>µg/L</td>\n      <td>NaN</td>\n      <td>0.02386</td>\n      <td>1000800</td>\n      <td>23.86</td>\n    </tr>\n    <tr>\n      <th>280</th>\n      <td>619992</td>\n      <td>2010-09-22</td>\n      <td>Abrera</td>\n      <td>NaN</td>\n      <td>410078.0</td>\n      <td>4594291.0</td>\n      <td>Diuron</td>\n      <td>µg/L</td>\n      <td>NaN</td>\n      <td>0.00775</td>\n      <td>1000760</td>\n      <td>7.75</td>\n    </tr>\n    <tr>\n      <th>377</th>\n      <td>620437</td>\n      <td>2010-09-22</td>\n      <td>Martorell</td>\n      <td>NaN</td>\n      <td>411036.0</td>\n      <td>4592524.0</td>\n      <td>Diuron</td>\n      <td>µg/L</td>\n      <td>NaN</td>\n      <td>0.00100</td>\n      <td>1000760</td>\n      <td>1.00</td>\n    </tr>\n    <tr>\n      <th>...</th>\n      <td>...</td>\n      <td>...</td>\n      <td>...</td>\n      <td>...</td>\n      <td>...</td>\n      <td>...</td>\n      <td>...</td>\n      <td>...</td>\n      <td>...</td>\n      <td>...</td>\n      <td>...</td>\n      <td>...</td>\n    </tr>\n    <tr>\n      <th>91665</th>\n      <td>556534</td>\n      <td>2017-10-06</td>\n      <td>QLSup - El Llobregat des de la confluncia de l...</td>\n      <td>F007462</td>\n      <td>420246.0</td>\n      <td>4578238.0</td>\n      <td>Diuron</td>\n      <td>ng/L</td>\n      <td>12.55</td>\n      <td>12.55000</td>\n      <td>1000900</td>\n      <td>12.55</td>\n    </tr>\n    <tr>\n      <th>91666</th>\n      <td>556537</td>\n      <td>2020-08-12</td>\n      <td>QLSup - El Llobregat des de la confluncia de l...</td>\n      <td>F007462</td>\n      <td>420246.0</td>\n      <td>4578238.0</td>\n      <td>Diuron</td>\n      <td>ng/L</td>\n      <td>15</td>\n      <td>15.00000</td>\n      <td>1000900</td>\n      <td>15.00</td>\n    </tr>\n    <tr>\n      <th>91667</th>\n      <td>556538</td>\n      <td>2020-10-07</td>\n      <td>QLSup - El Llobregat des de la confluncia de l...</td>\n      <td>F007462</td>\n      <td>420246.0</td>\n      <td>4578238.0</td>\n      <td>Diuron</td>\n      <td>ng/L</td>\n      <td>15</td>\n      <td>15.00000</td>\n      <td>1000900</td>\n      <td>15.00</td>\n    </tr>\n    <tr>\n      <th>91668</th>\n      <td>556539</td>\n      <td>2020-11-03</td>\n      <td>QLSup - El Llobregat des de la confluncia de l...</td>\n      <td>F007462</td>\n      <td>420246.0</td>\n      <td>4578238.0</td>\n      <td>Diuron</td>\n      <td>ng/L</td>\n      <td>16</td>\n      <td>16.00000</td>\n      <td>1000900</td>\n      <td>16.00</td>\n    </tr>\n    <tr>\n      <th>98339</th>\n      <td>579047</td>\n      <td>2019-09-25</td>\n      <td>QLSup - Riu de Bitlles des de l'EDAR de Riudeb...</td>\n      <td>F007456</td>\n      <td>398406.0</td>\n      <td>4588606.0</td>\n      <td>Diuron</td>\n      <td>ng/L</td>\n      <td>13</td>\n      <td>13.00000</td>\n      <td>1000840</td>\n      <td>13.00</td>\n    </tr>\n  </tbody>\n</table>\n<p>178 rows × 12 columns</p>\n</div>"
     },
     "execution_count": 53,
     "metadata": {},
     "output_type": "execute_result"
    }
   ],
   "source": [
    "#Nombre observacions\n",
    "for contaminant in contaminants_i_nutrients:\n",
    "    df_contaminant = df[df[\"variable\"] == contaminant]\n",
    "    #print(contaminant, len(df_contaminant))\n",
    "df_contaminant"
   ],
   "metadata": {
    "collapsed": false,
    "pycharm": {
     "name": "#%%\n"
    }
   }
  },
  {
   "cell_type": "code",
   "execution_count": 45,
   "outputs": [
    {
     "name": "stdout",
     "output_type": "stream",
     "text": [
      "Ciprofloxacina 4\n",
      "Clorobenzè 0\n",
      "Hexabromociclodecà 2\n",
      "Nonilfenols 10\n",
      "Octilfenols 11\n",
      "Tetracloroetilè 1\n",
      "Triclorometà 2\n",
      "Cloroalcans 1\n",
      "Niquel dissolt 8\n",
      "Plom dissolt 2\n",
      "Diuron 2\n"
     ]
    },
    {
     "name": "stderr",
     "output_type": "stream",
     "text": [
      "C:\\Users\\jsalo\\AppData\\Local\\Temp\\ipykernel_27760\\1679701004.py:3: FutureWarning: Dropping invalid columns in DataFrameGroupBy.max is deprecated. In a future version, a TypeError will be raised. Before calling .max, select only columns which should be valid for the function.\n",
      "  aggregated = df_contaminant.groupby(['codi_aca']).max()\n",
      "C:\\Users\\jsalo\\AppData\\Local\\Temp\\ipykernel_27760\\1679701004.py:3: FutureWarning: Dropping invalid columns in DataFrameGroupBy.max is deprecated. In a future version, a TypeError will be raised. Before calling .max, select only columns which should be valid for the function.\n",
      "  aggregated = df_contaminant.groupby(['codi_aca']).max()\n",
      "C:\\Users\\jsalo\\AppData\\Local\\Temp\\ipykernel_27760\\1679701004.py:3: FutureWarning: Dropping invalid columns in DataFrameGroupBy.max is deprecated. In a future version, a TypeError will be raised. Before calling .max, select only columns which should be valid for the function.\n",
      "  aggregated = df_contaminant.groupby(['codi_aca']).max()\n",
      "C:\\Users\\jsalo\\AppData\\Local\\Temp\\ipykernel_27760\\1679701004.py:3: FutureWarning: Dropping invalid columns in DataFrameGroupBy.max is deprecated. In a future version, a TypeError will be raised. Before calling .max, select only columns which should be valid for the function.\n",
      "  aggregated = df_contaminant.groupby(['codi_aca']).max()\n",
      "C:\\Users\\jsalo\\AppData\\Local\\Temp\\ipykernel_27760\\1679701004.py:3: FutureWarning: Dropping invalid columns in DataFrameGroupBy.max is deprecated. In a future version, a TypeError will be raised. Before calling .max, select only columns which should be valid for the function.\n",
      "  aggregated = df_contaminant.groupby(['codi_aca']).max()\n",
      "C:\\Users\\jsalo\\AppData\\Local\\Temp\\ipykernel_27760\\1679701004.py:3: FutureWarning: Dropping invalid columns in DataFrameGroupBy.max is deprecated. In a future version, a TypeError will be raised. Before calling .max, select only columns which should be valid for the function.\n",
      "  aggregated = df_contaminant.groupby(['codi_aca']).max()\n",
      "C:\\Users\\jsalo\\AppData\\Local\\Temp\\ipykernel_27760\\1679701004.py:3: FutureWarning: Dropping invalid columns in DataFrameGroupBy.max is deprecated. In a future version, a TypeError will be raised. Before calling .max, select only columns which should be valid for the function.\n",
      "  aggregated = df_contaminant.groupby(['codi_aca']).max()\n",
      "C:\\Users\\jsalo\\AppData\\Local\\Temp\\ipykernel_27760\\1679701004.py:3: FutureWarning: Dropping invalid columns in DataFrameGroupBy.max is deprecated. In a future version, a TypeError will be raised. Before calling .max, select only columns which should be valid for the function.\n",
      "  aggregated = df_contaminant.groupby(['codi_aca']).max()\n"
     ]
    }
   ],
   "source": [
    "#Nombre incompliments\n",
    "for contaminant in contaminants_i_nutrients:\n",
    "    df_contaminant = df[df[\"variable\"] == contaminant]\n",
    "    aggregated = df_contaminant.groupby(['codi_aca']).max()\n",
    "    aggregated = aggregated.reset_index()\n",
    "\n",
    "    aggregated[\"incompliment\"] = aggregated.apply(lambda x: x[\"valor ng/L\"] > massa_aigua_df.loc[contaminant, x[\"codi_aca\"]], axis=1)\n",
    "    aggregated = aggregated[aggregated[\"incompliment\"]]\n",
    "    print(contaminant, len(aggregated))\n"
   ],
   "metadata": {
    "collapsed": false,
    "pycharm": {
     "name": "#%%\n"
    }
   }
  },
  {
   "cell_type": "code",
   "execution_count": null,
   "outputs": [],
   "source": [],
   "metadata": {
    "collapsed": false,
    "pycharm": {
     "name": "#%%\n"
    }
   }
  }
 ],
 "metadata": {
  "kernelspec": {
   "display_name": "Python 3 (ipykernel)",
   "language": "python",
   "name": "python3"
  },
  "language_info": {
   "codemirror_mode": {
    "name": "ipython",
    "version": 3
   },
   "file_extension": ".py",
   "mimetype": "text/x-python",
   "name": "python",
   "nbconvert_exporter": "python",
   "pygments_lexer": "ipython3",
   "version": "3.10.5"
  }
 },
 "nbformat": 4,
 "nbformat_minor": 5
}